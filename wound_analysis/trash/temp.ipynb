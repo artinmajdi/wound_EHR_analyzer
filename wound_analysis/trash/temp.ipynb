{
 "cells": [
  {
   "cell_type": "code",
   "execution_count": 25,
   "metadata": {},
   "outputs": [
    {
     "data": {
      "text/html": [
       "<div>\n",
       "<style scoped>\n",
       "    .dataframe tbody tr th:only-of-type {\n",
       "        vertical-align: middle;\n",
       "    }\n",
       "\n",
       "    .dataframe tbody tr th {\n",
       "        vertical-align: top;\n",
       "    }\n",
       "\n",
       "    .dataframe thead th {\n",
       "        text-align: right;\n",
       "    }\n",
       "</style>\n",
       "<table border=\"1\" class=\"dataframe\">\n",
       "  <thead>\n",
       "    <tr style=\"text-align: right;\">\n",
       "      <th></th>\n",
       "      <th>Record ID</th>\n",
       "      <th>Event Name</th>\n",
       "      <th>MRN</th>\n",
       "      <th>Date of Birth</th>\n",
       "      <th>Sex</th>\n",
       "      <th>Race</th>\n",
       "      <th>Race: Other - Specify</th>\n",
       "      <th>Ethnicity</th>\n",
       "      <th>Weight</th>\n",
       "      <th>Height</th>\n",
       "      <th>...</th>\n",
       "      <th>Clinical events</th>\n",
       "      <th>Diabetic Foot Wound - WIfI Classification: foot Infection (fI)</th>\n",
       "      <th>Infection</th>\n",
       "      <th>Infection/ Biomarker Measurement</th>\n",
       "      <th>Granulation</th>\n",
       "      <th>Granulation Quality</th>\n",
       "      <th>Necrosis</th>\n",
       "      <th>Exudate Volume</th>\n",
       "      <th>Exudate Viscosity</th>\n",
       "      <th>Exudate Type</th>\n",
       "    </tr>\n",
       "  </thead>\n",
       "  <tbody>\n",
       "    <tr>\n",
       "      <th>0</th>\n",
       "      <td>1</td>\n",
       "      <td>Visit 1 (Arm 2: Control)</td>\n",
       "      <td>41758670.0</td>\n",
       "      <td>6/9/1996</td>\n",
       "      <td>Female</td>\n",
       "      <td>White/ Caucasian</td>\n",
       "      <td>NaN</td>\n",
       "      <td>Hispanic or Latino</td>\n",
       "      <td>93.3</td>\n",
       "      <td>157.48</td>\n",
       "      <td>...</td>\n",
       "      <td>NaN</td>\n",
       "      <td>NaN</td>\n",
       "      <td>NaN</td>\n",
       "      <td>NaN</td>\n",
       "      <td>NaN</td>\n",
       "      <td>NaN</td>\n",
       "      <td>NaN</td>\n",
       "      <td>NaN</td>\n",
       "      <td>NaN</td>\n",
       "      <td>NaN</td>\n",
       "    </tr>\n",
       "    <tr>\n",
       "      <th>1</th>\n",
       "      <td>2</td>\n",
       "      <td>Visit 1 (Arm 2: Control)</td>\n",
       "      <td>41271032.0</td>\n",
       "      <td>1/23/1992</td>\n",
       "      <td>Male</td>\n",
       "      <td>White/ Caucasian</td>\n",
       "      <td>NaN</td>\n",
       "      <td>Hispanic or Latino</td>\n",
       "      <td>99.0</td>\n",
       "      <td>182.00</td>\n",
       "      <td>...</td>\n",
       "      <td>NaN</td>\n",
       "      <td>NaN</td>\n",
       "      <td>NaN</td>\n",
       "      <td>NaN</td>\n",
       "      <td>NaN</td>\n",
       "      <td>NaN</td>\n",
       "      <td>NaN</td>\n",
       "      <td>NaN</td>\n",
       "      <td>NaN</td>\n",
       "      <td>NaN</td>\n",
       "    </tr>\n",
       "    <tr>\n",
       "      <th>2</th>\n",
       "      <td>3</td>\n",
       "      <td>Visit 1  (Arm 1: Treatment)</td>\n",
       "      <td>41657125.0</td>\n",
       "      <td>8/29/1956</td>\n",
       "      <td>Male</td>\n",
       "      <td>Black</td>\n",
       "      <td>NaN</td>\n",
       "      <td>Not Hispanic or Latino</td>\n",
       "      <td>111.2</td>\n",
       "      <td>180.34</td>\n",
       "      <td>...</td>\n",
       "      <td>NaN</td>\n",
       "      <td>Uninfected</td>\n",
       "      <td>NaN</td>\n",
       "      <td>NaN</td>\n",
       "      <td>One half of the wound area</td>\n",
       "      <td>Pale</td>\n",
       "      <td>Adherent Slough</td>\n",
       "      <td>High</td>\n",
       "      <td>Medium</td>\n",
       "      <td>Yellow</td>\n",
       "    </tr>\n",
       "    <tr>\n",
       "      <th>3</th>\n",
       "      <td>3</td>\n",
       "      <td>Visit 2 (Arm 1: Treatment)</td>\n",
       "      <td>NaN</td>\n",
       "      <td>NaN</td>\n",
       "      <td>NaN</td>\n",
       "      <td>NaN</td>\n",
       "      <td>NaN</td>\n",
       "      <td>NaN</td>\n",
       "      <td>NaN</td>\n",
       "      <td>NaN</td>\n",
       "      <td>...</td>\n",
       "      <td>NaN</td>\n",
       "      <td>NaN</td>\n",
       "      <td>NaN</td>\n",
       "      <td>NaN</td>\n",
       "      <td>NaN</td>\n",
       "      <td>NaN</td>\n",
       "      <td>NaN</td>\n",
       "      <td>NaN</td>\n",
       "      <td>NaN</td>\n",
       "      <td>NaN</td>\n",
       "    </tr>\n",
       "    <tr>\n",
       "      <th>4</th>\n",
       "      <td>3</td>\n",
       "      <td>Visit 3 (Arm 1: Treatment)</td>\n",
       "      <td>NaN</td>\n",
       "      <td>NaN</td>\n",
       "      <td>NaN</td>\n",
       "      <td>NaN</td>\n",
       "      <td>NaN</td>\n",
       "      <td>NaN</td>\n",
       "      <td>NaN</td>\n",
       "      <td>NaN</td>\n",
       "      <td>...</td>\n",
       "      <td>NaN</td>\n",
       "      <td>Uninfected</td>\n",
       "      <td>NaN</td>\n",
       "      <td>NaN</td>\n",
       "      <td>NaN</td>\n",
       "      <td>NaN</td>\n",
       "      <td>NaN</td>\n",
       "      <td>Medium</td>\n",
       "      <td>Medium</td>\n",
       "      <td>Yellow</td>\n",
       "    </tr>\n",
       "  </tbody>\n",
       "</table>\n",
       "<p>5 rows × 70 columns</p>\n",
       "</div>"
      ],
      "text/plain": [
       "   Record ID                   Event Name         MRN Date of Birth     Sex  \\\n",
       "0          1     Visit 1 (Arm 2: Control)  41758670.0      6/9/1996  Female   \n",
       "1          2     Visit 1 (Arm 2: Control)  41271032.0     1/23/1992    Male   \n",
       "2          3  Visit 1  (Arm 1: Treatment)  41657125.0     8/29/1956    Male   \n",
       "3          3   Visit 2 (Arm 1: Treatment)         NaN           NaN     NaN   \n",
       "4          3   Visit 3 (Arm 1: Treatment)         NaN           NaN     NaN   \n",
       "\n",
       "              Race  Race: Other - Specify               Ethnicity   Weight  \\\n",
       "0  White/ Caucasian                    NaN      Hispanic or Latino    93.3   \n",
       "1  White/ Caucasian                    NaN      Hispanic or Latino    99.0   \n",
       "2             Black                    NaN  Not Hispanic or Latino   111.2   \n",
       "3               NaN                    NaN                     NaN     NaN   \n",
       "4               NaN                    NaN                     NaN     NaN   \n",
       "\n",
       "   Height   ...  Clinical events   \\\n",
       "0   157.48  ...               NaN   \n",
       "1   182.00  ...               NaN   \n",
       "2   180.34  ...               NaN   \n",
       "3      NaN  ...               NaN   \n",
       "4      NaN  ...               NaN   \n",
       "\n",
       "  Diabetic Foot Wound - WIfI Classification: foot Infection (fI) Infection  \\\n",
       "0                                                NaN                   NaN   \n",
       "1                                                NaN                   NaN   \n",
       "2                                         Uninfected                   NaN   \n",
       "3                                                NaN                   NaN   \n",
       "4                                         Uninfected                   NaN   \n",
       "\n",
       "   Infection/ Biomarker Measurement                  Granulation  \\\n",
       "0                                NaN                         NaN   \n",
       "1                                NaN                         NaN   \n",
       "2                                NaN  One half of the wound area   \n",
       "3                                NaN                         NaN   \n",
       "4                                NaN                         NaN   \n",
       "\n",
       "  Granulation Quality         Necrosis  Exudate Volume Exudate Viscosity  \\\n",
       "0                  NaN              NaN            NaN               NaN   \n",
       "1                  NaN              NaN            NaN               NaN   \n",
       "2                 Pale  Adherent Slough           High            Medium   \n",
       "3                  NaN              NaN            NaN               NaN   \n",
       "4                  NaN              NaN         Medium            Medium   \n",
       "\n",
       "  Exudate Type   \n",
       "0           NaN  \n",
       "1           NaN  \n",
       "2        Yellow  \n",
       "3           NaN  \n",
       "4        Yellow  \n",
       "\n",
       "[5 rows x 70 columns]"
      ]
     },
     "execution_count": 25,
     "metadata": {},
     "output_type": "execute_result"
    }
   ],
   "source": [
    "import pandas as pd\n",
    "# from app2_refactored import DataManager\n",
    "\n",
    "dataset_path = '/Users/artinmajdi/Documents/GitHubs/postdoc/Wound_management_interpreter_LLM/dataset/SmartBandage-Data_for_llm.csv'\n",
    "\n",
    "df = pd.read_csv(dataset_path)\n",
    "df.head()\n"
   ]
  },
  {
   "cell_type": "code",
   "execution_count": null,
   "metadata": {},
   "outputs": [],
   "source": [
    "df['Wound Type '].value_counts()"
   ]
  },
  {
   "cell_type": "code",
   "execution_count": 26,
   "metadata": {},
   "outputs": [
    {
     "name": "stderr",
     "output_type": "stream",
     "text": [
      "/Users/artinmajdi/Documents/GitHubs/postdoc/Wound_management_interpreter_LLM/wound_analysis/data_processor.py:115: FutureWarning: The default of observed=False is deprecated and will be changed to True in a future version of pandas. Pass observed=False to retain current behavior or observed=True to adopt the future default and silence this warning.\n",
      "  'by_healing_status': df.groupby('BMI Category')['Healing Rate (%)'].agg(['mean', 'count']).to_dict()\n",
      "/Users/artinmajdi/Documents/GitHubs/postdoc/Wound_management_interpreter_LLM/wound_analysis/data_processor.py:131: FutureWarning: The default of observed=False is deprecated and will be changed to True in a future version of pandas. Pass observed=False to retain current behavior or observed=True to adopt the future default and silence this warning.\n",
      "  'diabetes_bmi': df.groupby(['Diabetes?', 'BMI Category'])['Healing Rate (%)'].agg(['mean', 'count']).to_dict()\n",
      "/Users/artinmajdi/Documents/GitHubs/postdoc/Wound_management_interpreter_LLM/wound_analysis/data_processor.py:137: FutureWarning: The default of observed=False is deprecated and will be changed to True in a future version of pandas. Pass observed=False to retain current behavior or observed=True to adopt the future default and silence this warning.\n",
      "  'by_healing_status': df.groupby(['Wound Type', 'Healing_Status']).size().to_dict()\n"
     ]
    },
    {
     "data": {
      "text/plain": [
       "\"## Clinical Population Analysis Task\\n\\n**Context**: Analyze this wound care dataset from a smart bandage clinical trial. Focus on identifying clinically significant patterns, risk factors, and treatment outcomes.\\n\\n**Dataset Overview**:\\n- Patients: N/A | Wounds: N/A\\n- Study Duration: N/A | Avg Visits/Patient: N/A\\n\\n## 1. Patient Characteristics\\n### Core Demographics:\\n- Age: {'summary': 'Mean: 52.8, Median: 52.5', 'distribution': {52.0: 4, 42.0: 4, 67.0: 3, 62.0: 3, 30.0: 3, 65.0: 3, 44.0: 2, 71.0: 2, 70.0: 2, 43.0: 2, 64.0: 2, 74.0: 2, 56.0: 2, 76.0: 2, 37.0: 2, 38.0: 2, 59.0: 2, 51.0: 2, 26.0: 2, 75.0: 1, 36.0: 1, 63.0: 1, 72.0: 1, 80.0: 1, 53.0: 1, 47.0: 1, 50.0: 1, 28.0: 1, 68.0: 1, 58.0: 1, 82.0: 1, 24.0: 1, 34.0: 1, 57.0: 1, 48.0: 1, 31.0: 1, 33.0: 1, 78.0: 1, 2.0: 1}, 'age_groups': {'50-70': 28, '30-50': 19, '>70': 11, '<30': 8}} | Gender: {'Male': 38, 'Female': 28}\\n- BMI: {'summary': 'Mean: 34.0, Range: 18.6-218.5', 'distribution': {'Obese': 30, 'Overweight': 18, 'Normal': 15, 'Underweight': 0}, 'by_healing_status': {'mean': {'Underweight': nan, 'Normal': 0.0, 'Overweight': 0.0, 'Obese': 0.0}, 'count': {'Underweight': 0, 'Normal': 15, 'Overweight': 18, 'Obese': 30}}} | Race/Ethnicity: {'White/ Caucasian': 58, 'Black': 2, 'Other {race_oth}': 2, 'Two or more races': 2, 'Asian': 1, 'American Indian/ Alaskan Native': 1}\\n\\n### Comorbidity Profile:\\n- Diabetes: N/A\\n- Smoking: N/A\\n- Vascular Disease: N/A\\n\\n## 2. Wound Characteristics\\n### Typology:\\n- Primary Types: N/A\\n- Locations: N/A\\n### Severity Metrics:\\n- Initial Size: N/A\\n- Depth Grades: N/A\\n- Infection Rates: N/A\\n\\n## 3. Therapeutic Outcomes\\n### Intervention Analysis:\\n- Modalities Used: N/A\\n- Response Times: N/A\\n### Efficacy Metrics:\\n- Healing Rates: N/A\\n- Complication Profile: N/A\\n\\n## 4. Biomarker Correlations\\n### Smart Bandage Metrics:\\n- Temperature Trends: N/A\\n- Impedance Dynamics: N/A\\n- Oxygenation Levels: N/A\\n\\n### Healing Correlations:\\n- Early Healing Indicators: N/A\\n- Complication Predictors: N/A\\n\\n## Analysis Requirements\\n1. Perform stratified analysis by wound type and patient comorbidities\\n2. Identify significant correlations between sensor data and healing trajectories\\n3. Evaluate treatment effectiveness with adjustment for confounding factors\\n4. Provide clinical actionability scores for key findings\\n5. Generate SMART clinical recommendations with implementation steps\\n\\n**Output Format**:\\n- Structured clinical report with executive summary\\n- Evidence-graded recommendations (Levels A-D)\\n- Risk-benefit analysis for proposed interventions\""
      ]
     },
     "execution_count": 26,
     "metadata": {},
     "output_type": "execute_result"
    }
   ],
   "source": [
    "from llm_interface import WoundAnalysisLLM\n",
    "from data_processor import WoundDataProcessor\n",
    "llm = WoundAnalysisLLM(platform=\"ai-verde\", model_name=\"llama-3.3-70b-fp8\")\n",
    "data_processor = WoundDataProcessor(df=df, dataset_path=dataset_path)\n",
    "\n",
    "mode = 'all'\n",
    "if mode=='all':\n",
    "    patient_data = data_processor.get_population_statistics()\n",
    "    prompt = llm._format_population_prompt(patient_data)\n",
    "    # analysis = llm.analyze_population_data(patient_data)\n",
    "else:\n",
    "    patient_id = 3\n",
    "    patient_data = data_processor.get_patient_visits(record_id=int(patient_id))\n",
    "    prompt = llm._format_per_patient_prompt(patient_data)\n",
    "    # analysis = llm.analyze_population_data(patient_data)\n",
    "\n",
    "prompt\n"
   ]
  },
  {
   "cell_type": "code",
   "execution_count": 27,
   "metadata": {},
   "outputs": [
    {
     "data": {
      "text/plain": [
       "dict_keys(['summary', 'demographics', 'risk_factors', 'wound_characteristics', 'healing_progression', 'exudate_analysis', 'sensor_data'])"
      ]
     },
     "execution_count": 27,
     "metadata": {},
     "output_type": "execute_result"
    }
   ],
   "source": [
    "patient_data.keys()"
   ]
  },
  {
   "cell_type": "markdown",
   "metadata": {},
   "source": [
    "\"## Clinical Population Analysis Task\\n\\n**Context**: Analyze this wound care dataset from a smart bandage clinical trial. Focus on identifying clinically significant patterns, risk factors, and treatment outcomes.\\n\\n**Dataset Overview**:\\n- Patients: N/A | Wounds: N/A\\n- Study Duration: N/A | Avg Visits/Patient: N/A\\n\\n## 1. Patient Characteristics\\n### Core Demographics:\\n- Age: {'summary': 'Mean: 52.8, Median: 52.5', 'distribution': {52.0: 4, 42.0: 4, 67.0: 3, 62.0: 3, 30.0: 3, 65.0: 3, 44.0: 2, 71.0: 2, 70.0: 2, 43.0: 2, 64.0: 2, 74.0: 2, 56.0: 2, 76.0: 2, 37.0: 2, 38.0: 2, 59.0: 2, 51.0: 2, 26.0: 2, 75.0: 1, 36.0: 1, 63.0: 1, 72.0: 1, 80.0: 1, 53.0: 1, 47.0: 1, 50.0: 1, 28.0: 1, 68.0: 1, 58.0: 1, 82.0: 1, 24.0: 1, 34.0: 1, 57.0: 1, 48.0: 1, 31.0: 1, 33.0: 1, 78.0: 1, 2.0: 1}, 'age_groups': {'50-70': 28, '30-50': 19, '>70': 11, '<30': 8}} | Gender: {'Male': 38, 'Female': 28}\\n- BMI: {'summary': 'Mean: 34.0, Range: 18.6-218.5', 'distribution': {'Obese': 30, 'Overweight': 18, 'Normal': 15, 'Underweight': 0}, 'by_healing_status': {'mean': {'Underweight': nan, 'Normal': 0.0, 'Overweight': 0.0, 'Obese': 0.0}, 'count': {'Underweight': 0, 'Normal': 15, 'Overweight': 18, 'Obese': 30}}} | Race/Ethnicity: {'White/ Caucasian': 58, 'Black': 2, 'Other {race_oth}': 2, 'Two or more races': 2, 'Asian': 1, 'American Indian/ Alaskan Native': 1}\\n\\n### Comorbidity Profile:\\n- Diabetes: N/A\\n- Smoking: N/A\\n- Vascular Disease: N/A\\n\\n## 2. Wound Characteristics\\n### Typology:\\n- Primary Types: N/A\\n- Locations: N/A\\n### Severity Metrics:\\n- Initial Size: N/A\\n- Depth Grades: N/A\\n- Infection Rates: N/A\\n\\n## 3. Therapeutic Outcomes\\n### Intervention Analysis:\\n- Modalities Used: N/A\\n- Response Times: N/A\\n### Efficacy Metrics:\\n- Healing Rates: N/A\\n- Complication Profile: N/A\\n\\n## 4. Biomarker Correlations\\n### Smart Bandage Metrics:\\n- Temperature Trends: N/A\\n- Impedance Dynamics: N/A\\n- Oxygenation Levels: N/A\\n\\n### Healing Correlations:\\n- Early Healing Indicators: N/A\\n- Complication Predictors: N/A\\n\\n## Analysis Requirements\\n1. Perform stratified analysis by wound type and patient comorbidities\\n2. Identify significant correlations between sensor data and healing trajectories\\n3. Evaluate treatment effectiveness with adjustment for confounding factors\\n4. Provide clinical actionability scores for key findings\\n5. Generate SMART clinical recommendations with implementation steps\\n\\n**Output Format**:\\n- Structured clinical report with executive summary\\n- Evidence-graded recommendations (Levels A-D)\\n- Risk-benefit analysis for proposed interventions\"\n"
   ]
  },
  {
   "cell_type": "code",
   "execution_count": 30,
   "metadata": {},
   "outputs": [
    {
     "data": {
      "text/plain": [
       "dict_keys(['oxygenation'])"
      ]
     },
     "execution_count": 30,
     "metadata": {},
     "output_type": "execute_result"
    }
   ],
   "source": [
    "patient_data['sensor_data']"
   ]
  }
 ],
 "metadata": {
  "kernelspec": {
   "display_name": "diabetic_llm",
   "language": "python",
   "name": "python3"
  },
  "language_info": {
   "codemirror_mode": {
    "name": "ipython",
    "version": 3
   },
   "file_extension": ".py",
   "mimetype": "text/x-python",
   "name": "python",
   "nbconvert_exporter": "python",
   "pygments_lexer": "ipython3",
   "version": "3.13.2"
  }
 },
 "nbformat": 4,
 "nbformat_minor": 2
}
