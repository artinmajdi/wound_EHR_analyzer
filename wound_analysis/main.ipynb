{
 "cells": [
  {
   "cell_type": "code",
   "execution_count": 1,
   "metadata": {},
   "outputs": [
    {
     "name": "stderr",
     "output_type": "stream",
     "text": [
      "/Users/artinmajdi/Documents/GitHubs/postdoc/TDT_copilot_2/.venv/lib/python3.12/site-packages/tqdm/auto.py:21: TqdmWarning: IProgress not found. Please update jupyter and ipywidgets. See https://ipywidgets.readthedocs.io/en/stable/user_install.html\n",
      "  from .autonotebook import tqdm as notebook_tqdm\n"
     ]
    }
   ],
   "source": [
    "%load_ext autoreload\n",
    "%autoreload 2\n",
    "\n",
    "import os\n",
    "import argparse\n",
    "from data_processor import WoundDataProcessor\n",
    "from llm_interface import WoundAnalysisLLM\n",
    "import logging\n",
    "import pathlib\n",
    "\n",
    "logging.basicConfig(level=logging.INFO)\n",
    "logger = logging.getLogger(__name__)"
   ]
  },
  {
   "cell_type": "markdown",
   "metadata": {},
   "source": [
    "# curl -s -L \"https://llm-api.cyverse.ai/v1/models\" -H \"Authorization: Bearer {api-key}\" -H 'Content-Type: application/json' | jq"
   ]
  },
  {
   "cell_type": "code",
   "execution_count": null,
   "metadata": {},
   "outputs": [
    {
     "name": "stderr",
     "output_type": "stream",
     "text": [
      "INFO:__main__:Processing data for patient 41\n",
      "INFO:__main__:Analyzing patient data with LLM\n",
      "INFO:llm_interface:Successfully loaded AI Verde model llama-3.3-70b-fp8\n",
      "INFO:httpx:HTTP Request: POST https://llm-api.cyverse.ai/chat/completions \"HTTP/1.1 200 OK\"\n"
     ]
    },
    {
     "name": "stdout",
     "output_type": "stream",
     "text": [
      "\n",
      "Wound Care Analysis Results:\n",
      "--------------------------------------------------\n",
      "### 1. Wound Healing Trajectory\n",
      "\n",
      "The wound healing trajectory for this patient can be analyzed by examining changes in wound size, exudate characteristics, and tissue properties over time.\n",
      "\n",
      "- **Size**: Initially, on 08-30-2024, the wound size was 5.5cm x 4.5cm x 0.1cm with an area of 24.8cm². Over the observation period, there has been a general trend of wound size reduction, with some fluctuations. By 02-10-2025, the size had decreased to 1.5cm x 1.6cm x 0.5cm with an area of 2.4cm². This reduction indicates a positive healing trajectory.\n",
      "  \n",
      "- **Exudate**: The volume and characteristics of exudate have varied. Early on, it was low volume and serous. There were periods of increased volume and changes in type (serous, serosanguineous, sanguineous), which may indicate periods of infection or increased inflammation. By the latest observation, the exudate was medium volume and serous, suggesting an ongoing healing process with possible residual inflammation.\n",
      "\n",
      "- **Tissue**: Initially, the tissue was described as pale, progressing to pink, red, and then varying between these descriptions over time. The coverage of the wound area by granulation tissue (implied by the terms \"Red\" and \"Pink\") has generally been good, with some fluctuations. This variability could be associated with periods of increased inflammation or infection.\n",
      "\n",
      "### 2. Concerning Patterns\n",
      "\n",
      "- **Fluctuations in Healing Progress**: The wound size and exudate characteristics have not decreased uniformly over time, suggesting periods of stalled healing or possible setbacks due to infection or other complications.\n",
      "  \n",
      "- **Variability in Tissue Characteristics**: The tissue characteristics have fluctuated between pale, pink, and red, which could indicate periods of reduced oxygenation or increased inflammation, affecting the healing process.\n",
      "  \n",
      "- **Impedance Measurements**: The absence of impedance measurements for most of the observation period makes it difficult to assess the wound's electrical properties, which could provide insights into the wound's healing status and fluid content. The single measurement on 11-26-2024 shows high resistance and low capacitance, which might suggest a relatively dry wound environment at that point.\n",
      "\n",
      "### 3. Care Recommendations\n",
      "\n",
      "- **Continued Use of Medihoney**: Given the wound's response to Medihoney, its continued use is recommended. Medihoney's antimicrobial properties can help manage bacterial colonization and promote a moist healing environment.\n",
      "  \n",
      "- **Regular Debridement**: To manage the variability in exudate and tissue characteristics, regular debridement should be considered to remove any dead tissue and promote granulation.\n",
      "  \n",
      "- **Monitoring for Infection**: Close monitoring for signs of infection (increased redness, swelling, warmth, or purulent discharge) is crucial. Any suspicion of infection should prompt a review of the current antimicrobial treatment and possible adjustment.\n",
      "  \n",
      "- **Pressure Offloading**: Given the wound's location on the plantar forefoot, pressure offloading strategies should be implemented to reduce mechanical stress on the wound, promoting a more favorable environment for healing.\n",
      "  \n",
      "- **Nutritional Support**: For a patient with a BMI of 40.6 and Type 2 Diabetes Mellitus, nutritional support and management of blood glucose levels are critical for optimal wound healing. A diet rich in protein, vitamins, and minerals, alongside good glycemic control, can significantly impact healing.\n",
      "\n",
      "### 4. Complication Risks\n",
      "\n",
      "- **Infection**: The presence of diabetes and the wound's location increase the risk of infection. Regular monitoring and prompt intervention are essential.\n",
      "  \n",
      "- **Delayed Healing**: The patient's diabetes and obesity are risk factors for delayed healing. Close monitoring of the wound's progress and adjustment of the care plan as needed are critical.\n",
      "  \n",
      "- **Pressure Ulcers**: The wound's location on a weight-bearing area increases the risk of pressure ulcers. Implementing strategies to offload pressure is vital.\n",
      "\n",
      "### 5. Significance of Sensor Measurements\n",
      "\n",
      "- **Oxygenation**: The oxygen levels have generally been within a range that suggests adequate oxygenation for healing (above 80%). However, the drop to 73% on 02-10-2025 may indicate a need to reassess the wound's environment and possibly intervene to improve oxygen delivery.\n",
      "  \n",
      "- **Temperature**: The wound temperature has remained relatively constant, around 97°F to 98°F, which is within the normal range for wound healing. Significant deviations could indicate infection or inflammation.\n",
      "  \n",
      "- **Impedance**: The limited impedance data available suggests a relatively dry environment on 11-26-2024. Further impedance measurements could provide valuable insights into the wound's fluid status and healing progress, helping to tailor the treatment approach.\n",
      "\n",
      "Overall, while the wound shows a general trend towards healing, there are concerning patterns that necessitate close monitoring and possibly adjustments to the care plan to mitigate risks and optimize healing outcomes.\n"
     ]
    }
   ],
   "source": [
    "# Parse arguments\n",
    "args = argparse.Namespace(\n",
    "    dataset_path=pathlib.Path('/Users/artinmajdi/Documents/GitHubs/postdoc/TDT_copilot_2/dataset'),\n",
    "    record_id=41,\n",
    "    model_name='llama-3.3-70b-fp8',\n",
    "    platform='ai-verde'\n",
    ")\n",
    "\n",
    "# Environment setup\n",
    "\n",
    "# Initialize components\n",
    "processor = WoundDataProcessor(dataset_path=args.dataset_path)\n",
    "llm = WoundAnalysisLLM(platform=args.platform , model_name=args.model_name)\n",
    "\n",
    "# Process data and get analysis\n",
    "logger.info(f\"Processing data for patient {args.record_id}\")\n",
    "patient_data = processor.get_patient_visits(args.record_id)\n",
    "\n",
    "logger.info(\"Analyzing patient data with LLM\")\n",
    "analysis = llm.analyze_patient_data(patient_data)\n",
    "\n",
    "# Print results\n",
    "print(\"\\nWound Care Analysis Results:\")\n",
    "print(\"-\" * 50)\n",
    "print(analysis)\n"
   ]
  },
  {
   "cell_type": "code",
   "execution_count": null,
   "metadata": {},
   "outputs": [],
   "source": [
    "processor.process_impedance_sweep_xlsx(record_id=41)"
   ]
  }
 ],
 "metadata": {
  "kernelspec": {
   "display_name": ".venv",
   "language": "python",
   "name": "python3"
  },
  "language_info": {
   "codemirror_mode": {
    "name": "ipython",
    "version": 3
   },
   "file_extension": ".py",
   "mimetype": "text/x-python",
   "name": "python",
   "nbconvert_exporter": "python",
   "pygments_lexer": "ipython3",
   "version": "3.12.5"
  }
 },
 "nbformat": 4,
 "nbformat_minor": 2
}
